{
 "cells": [
  {
   "cell_type": "code",
   "execution_count": 12,
   "id": "ced567b5",
   "metadata": {},
   "outputs": [
    {
     "ename": "AttributeError",
     "evalue": "module 'redbiom' has no attribute 'admin'",
     "output_type": "error",
     "traceback": [
      "\u001b[31m---------------------------------------------------------------------------\u001b[39m",
      "\u001b[31mAttributeError\u001b[39m                            Traceback (most recent call last)",
      "\u001b[36mCell\u001b[39m\u001b[36m \u001b[39m\u001b[32mIn[12]\u001b[39m\u001b[32m, line 4\u001b[39m\n\u001b[32m      1\u001b[39m \u001b[38;5;28;01mimport\u001b[39;00m\u001b[38;5;250m \u001b[39m\u001b[34;01mredbiom\u001b[39;00m\n\u001b[32m      3\u001b[39m \u001b[38;5;66;03m# Get available contexts (e.g., Deblur_2021, etc.)\u001b[39;00m\n\u001b[32m----> \u001b[39m\u001b[32m4\u001b[39m contexts = \u001b[43mredbiom\u001b[49m\u001b[43m.\u001b[49m\u001b[43madmin\u001b[49m.contexts()\n\u001b[32m      5\u001b[39m \u001b[38;5;28mprint\u001b[39m(\u001b[33m\"\u001b[39m\u001b[33mAvailable contexts:\u001b[39m\u001b[33m\"\u001b[39m, contexts)\n\u001b[32m      7\u001b[39m \u001b[38;5;66;03m# Fetch all samples that match metadata condition\u001b[39;00m\n",
      "\u001b[31mAttributeError\u001b[39m: module 'redbiom' has no attribute 'admin'"
     ]
    }
   ],
   "source": [
    "import redbiom\n",
    "\n",
    "# Get available contexts (e.g., Deblur_2021, etc.)\n",
    "contexts = redbiom.admin.contexts()\n",
    "print(\"Available contexts:\", contexts)\n",
    "\n",
    "# Fetch all samples that match metadata condition\n",
    "from redbiom import search\n",
    "\n",
    "samples = search.metadata(\"sample_type == 'feces'\")\n",
    "print(f\"Found {len(samples)} samples\")\n",
    "\n",
    "# Search for samples with a specific taxonomic feature\n",
    "samples_with_feature = search.samples_by_feature(\"Actinobacteria\")\n",
    "print(f\"Samples with Actinobacteria: {len(samples_with_feature)}\")\n",
    "\n",
    "# Intersect metadata and feature queries\n",
    "samples_intersect = samples & samples_with_feature\n",
    "print(f\"Samples that match both conditions: {len(samples_intersect)}\")\n"
   ]
  },
  {
   "cell_type": "code",
   "execution_count": null,
   "id": "6e9a7a14",
   "metadata": {},
   "outputs": [
    {
     "ename": "AttributeError",
     "evalue": "module 'redbiom' has no attribute 'summarize'",
     "output_type": "error",
     "traceback": [
      "\u001b[31m---------------------------------------------------------------------------\u001b[39m",
      "\u001b[31mAttributeError\u001b[39m                            Traceback (most recent call last)",
      "\u001b[36mCell\u001b[39m\u001b[36m \u001b[39m\u001b[32mIn[2]\u001b[39m\u001b[32m, line 2\u001b[39m\n\u001b[32m      1\u001b[39m \u001b[38;5;28;01mimport\u001b[39;00m\u001b[38;5;250m \u001b[39m\u001b[34;01mredbiom\u001b[39;00m\n\u001b[32m----> \u001b[39m\u001b[32m2\u001b[39m ctxs = \u001b[43mredbiom\u001b[49m\u001b[43m.\u001b[49m\u001b[43msummarize\u001b[49m.contexts()\n\u001b[32m      4\u001b[39m \u001b[38;5;28mprint\u001b[39m(ctxs)\n",
      "\u001b[31mAttributeError\u001b[39m: module 'redbiom' has no attribute 'summarize'"
     ]
    }
   ],
   "source": [
    "from redbiom import fetch\n",
    "\n",
    "# Fetch feature table for the intersected samples\n",
    "table = fetch.sample_metadata(samples=list(samples_intersect))\n",
    "\n",
    "# Each key in table is a sample ID, and the value is a dict of metadata\n",
    "print(table[\"10317.000001\"])"
   ]
  },
  {
   "cell_type": "code",
   "execution_count": 11,
   "id": "79ee9d66",
   "metadata": {},
   "outputs": [
    {
     "name": "stderr",
     "output_type": "stream",
     "text": [
      "[nltk_data] Downloading package punkt_tab to\n",
      "[nltk_data]     /Users/dhruvsharma/nltk_data...\n",
      "[nltk_data]   Unzipping tokenizers/punkt_tab.zip.\n"
     ]
    },
    {
     "data": {
      "text/plain": [
       "True"
      ]
     },
     "execution_count": 11,
     "metadata": {},
     "output_type": "execute_result"
    }
   ],
   "source": [
    "import nltk\n",
    "nltk.download('punkt_tab')"
   ]
  },
  {
   "cell_type": "code",
   "execution_count": 15,
   "id": "dc5fd281",
   "metadata": {},
   "outputs": [
    {
     "data": {
      "text/plain": [
       "327153471"
      ]
     },
     "execution_count": 15,
     "metadata": {},
     "output_type": "execute_result"
    }
   ],
   "source": [
    "2090303 | 325235235"
   ]
  },
  {
   "cell_type": "code",
   "execution_count": null,
   "id": "489e2dc3",
   "metadata": {},
   "outputs": [],
   "source": []
  }
 ],
 "metadata": {
  "kernelspec": {
   "display_name": "ezredbiom",
   "language": "python",
   "name": "python3"
  },
  "language_info": {
   "codemirror_mode": {
    "name": "ipython",
    "version": 3
   },
   "file_extension": ".py",
   "mimetype": "text/x-python",
   "name": "python",
   "nbconvert_exporter": "python",
   "pygments_lexer": "ipython3",
   "version": "3.11.13"
  }
 },
 "nbformat": 4,
 "nbformat_minor": 5
}
